{
 "cells": [
  {
   "cell_type": "markdown",
   "id": "adb053e0",
   "metadata": {},
   "source": [
    "### Encapsulation\n",
    "is an another powerful way to extend a class which consits on wrapping an object with second one there are two reason for encapsulation:\n",
    "\n",
    "composition\n",
    "dynamic extension"
   ]
  },
  {
   "cell_type": "markdown",
   "id": "556515cb",
   "metadata": {},
   "source": [
    "create  3classes class1(a1,a2,a3) m1 class2(a2,b3,c3)m2 class3(a3.b3,c3)m3   then create a object for all the above three classes, create a 4th class4(d1,d2,d3)"
   ]
  },
  {
   "cell_type": "code",
   "execution_count": 26,
   "id": "f188e5a3",
   "metadata": {},
   "outputs": [],
   "source": [
    "class class1:\n",
    "    def __init__(self,a1,a2,a3):\n",
    "        self.a1=a1\n",
    "        self.a2=a2\n",
    "        self.a3=a3\n",
    "    def m1(self):\n",
    "        \n",
    "        return \"Method 1 has been executed\"\n",
    "    def __str__(self):\n",
    "        return (\"Class1 value1:\"+self.a1+\"  Class1 value2:\"+self.a2+\"  Class1 value3:\"+self.a3)\n",
    "class class2:\n",
    "    def __init__(self,b1,b2,b3):\n",
    "        self.b1=b1\n",
    "        self.b2=b2\n",
    "        self.b3=b3\n",
    "    def m2(self):\n",
    "        return \"Method 2 has been executed\"    \n",
    "    def __str__(self):\n",
    "        return(\"Class2 value1:\"+self.b1+\"  Class2 value2:\"+self.b2+\"  Class2 value3:\"+self.b3)\n",
    "class class3:\n",
    "    def __init__(self,c1,c2,c3):\n",
    "        self.c1=c1\n",
    "        self.c2=c2\n",
    "        self.c3=c3\n",
    "    def m3(self):\n",
    "        return \"Method 3 has been executed\"    \n",
    "    def __str__(self):\n",
    "        return(\"Class3 value1:\"+self.c1+\"  Class3 value2:\"+self.c2+\"  Class3 value3:\"+self.c3)   \n",
    "class class4:\n",
    "    def __init__(self,d1,d2,d3):\n",
    "        self.class1=d1\n",
    "        self.class2=d2\n",
    "        self.class3=d3\n",
    "    def m4(self):\n",
    "        return \"Method 4 has been executed\"\n",
    "    def __str__(self):\n",
    "        return str(self.class1)+\"\\n\"+str(self.class2)+\"\\n\"+str(self.class3)"
   ]
  },
  {
   "cell_type": "code",
   "execution_count": 27,
   "id": "02ab31b1",
   "metadata": {},
   "outputs": [
    {
     "name": "stdout",
     "output_type": "stream",
     "text": [
      "A\n",
      "B\n",
      "C\n"
     ]
    }
   ],
   "source": [
    "data=class4('A','B','C')\n",
    "print(data)            "
   ]
  },
  {
   "cell_type": "code",
   "execution_count": 33,
   "id": "56ce7293",
   "metadata": {},
   "outputs": [
    {
     "name": "stdout",
     "output_type": "stream",
     "text": [
      "Class1 value1:A1  Class1 value2:A2  Class1 value3:A3\n",
      "Class2 value1:B1  Class2 value2:B2  Class2 value3:B3\n",
      "Class3 value1:C1  Class3 value2:C2  Class3 value3:C3\n",
      "Method 4 has been executed\n"
     ]
    }
   ],
   "source": [
    "data1=class1('A1','A2','A3')\n",
    "data2=class2('B1','B2','B3')\n",
    "data3=class3('C1','C2','C3')\n",
    "final=class4(data1,data2,data3)\n",
    "print(final)\n",
    "print(final.m4())"
   ]
  },
  {
   "cell_type": "code",
   "execution_count": null,
   "id": "93c97bcb",
   "metadata": {},
   "outputs": [],
   "source": []
  }
 ],
 "metadata": {
  "kernelspec": {
   "display_name": "Python 3",
   "language": "python",
   "name": "python3"
  },
  "language_info": {
   "codemirror_mode": {
    "name": "ipython",
    "version": 3
   },
   "file_extension": ".py",
   "mimetype": "text/x-python",
   "name": "python",
   "nbconvert_exporter": "python",
   "pygments_lexer": "ipython3",
   "version": "3.8.8"
  }
 },
 "nbformat": 4,
 "nbformat_minor": 5
}
